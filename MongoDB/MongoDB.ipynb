{
 "cells": [
  {
   "cell_type": "code",
   "execution_count": 1,
   "metadata": {},
   "outputs": [],
   "source": [
    "\n",
    "from IPython.core.display import HTML\n",
    "def css_styling():   \n",
    "    styles = open(\"styles/custom.css\", \"r\").read() \n",
    "    return HTML(styles) "
   ]
  },
  {
   "cell_type": "markdown",
   "metadata": {},
   "source": [
    "# 1 Introduction to MongoDB\n",
    "<small>This introduction is partially inspired on the notes of Alberto Negron's [blog](http://altons.github.io/python/2013/01/21/gentle-introduction-to-mongodb-using-pymongo/)</small>"
   ]
  },
  {
   "cell_type": "markdown",
   "metadata": {},
   "source": [
    "MongoDB is a document-oriented database, part of the NoSQL family of database systems. MongoDB stores structured data as JSON-like structures. From a pythonic point of view it is like storing dictionary data structures. One of its main feature is its schema-less feature, i.e. it supports dynamic schemas. A schema in a relational database informally refer to the structure of the data it stores, i.e. what kind of data, which tables, which relations, etc."
   ]
  },
  {
   "cell_type": "markdown",
   "metadata": {},
   "source": [
    "## Connecting with a MongoDB on the cloud\n",
    "\n",
    "+ First, create an account in [https://cloud.mongodb.com/](https://cloud.mongodb.com/)\n",
    "+ Build a free cluster instance of 0,5Gb\n",
    "+ Create a Dabase User under Database Access, and connect to it following next code\n",
    "+ Install pymongo + dnspython\n",
    "\n",
    "`pip install \"pymongo[srv]\"`"
   ]
  },
  {
   "cell_type": "code",
   "execution_count": 4,
   "metadata": {},
   "outputs": [
    {
     "name": "stdout",
     "output_type": "stream",
     "text": [
      "Connected successfully!!!\n"
     ]
    }
   ],
   "source": [
    "import pymongo\n",
    "try:\n",
    "    #create a credentials.txt file in this folder:\n",
    "    #first line: Database username (not account username)\n",
    "    #second line: Database username password (not account password)\n",
    "    #third line: Databse url with port (you can find it in the cloud dashboard)\n",
    "    #fourth lin: Database name\n",
    "    if 'conn' in globals():\n",
    "        conn.close()\n",
    "        print(\"Closing\")\n",
    "    \n",
    "    with open(\"credentials.txt\", 'r') as f:\n",
    "        [name,password,url,dbname]=f.read().splitlines()\n",
    "    #conn=pymongo.MongoClient(\"mongodb+srv://{}:{}@{}\".format(name,password,url))\n",
    "    #db = conn[dbname]\n",
    "    print (\"Connected successfully!!!\")\n",
    "    #print(conn)\n",
    "    #print(db)\n",
    "    \n",
    "except pymongo.errors.ConnectionFailure as e:\n",
    "    print (\"Could not connect to MongoDB: %s\" % e) "
   ]
  },
  {
   "cell_type": "markdown",
   "metadata": {},
   "source": [
    "You can check your mongoDB database in this website:\n",
    "[https://cloud.mongodb.com/](https://cloud.mongodb.com/)"
   ]
  },
  {
   "cell_type": "markdown",
   "metadata": {},
   "source": [
    "### Connecting with a MongoDB database in localhost"
   ]
  },
  {
   "cell_type": "markdown",
   "metadata": {},
   "source": [
    "First of all let us configure the MongoDB system.\n",
    "\n",
    "+ Download mongoDB.\n",
    "\n",
    "https://www.mongodb.com/download-center/community\n",
    "\n",
    "+ Create data directory:\n",
    "\n",
    "`sudo mkdir -p /data/db`\n",
    "+ Check that the server works\n",
    "\n",
    "`sudo ./mongod --nojournal &`\n",
    "\n",
    "+ Check the connection to the server: \n",
    "\n",
    "in another terminal write `mongo` , check that it does not raise any error and exit the console.\n",
    "+ Close the mongo daemon (mongod). \n",
    "        You may have to kill mongod with \n",
    "        \n",
    "`killall mongod`\n",
    "\n",
    "        and remove the lock on the daemon, \n",
    "`rm /data/db/mongod.lock`\n",
    "\n",
    "+ Let us configure a little the data base by configuring the path of the data storage and log files. Create a [mongo.conf](./mongo.conf) file such as the one provided  and start the server using the following command:\n",
    "\n",
    "`mongod --config=./mongo.conf --nojournal &`\n",
    "        \n",
    "+ Install pymongo \n",
    "\n",
    "`pip install pymongo`"
   ]
  },
  {
   "cell_type": "code",
   "execution_count": null,
   "metadata": {},
   "outputs": [],
   "source": [
    "#import pymongo\n",
    "\n",
    "# Connection to Mongo DB\n",
    "#try:\n",
    "    #conn=pymongo.MongoClient()\n",
    "    #print (\"Connected successfully!!!\")\n",
    "#except pymongo.errors.ConnectionFailure as e:\n",
    "    #print (\"Could not connect to MongoDB: %s\" % e) \n",
    "#conn"
   ]
  },
  {
   "cell_type": "markdown",
   "metadata": {},
   "source": [
    "## Accessing to / Creating database\n",
    "\n",
    "We can **create** or **access to** a database using attribute access <span style = \"font-family:Courier;\"> db = conn.name_db</span> or dictionary acces <span style = \"font-family:Courier;\"> db = conn[name_db]</span>."
   ]
  },
  {
   "cell_type": "code",
   "execution_count": null,
   "metadata": {},
   "outputs": [],
   "source": [
    "#Create a database using db = conn.name_db or dictionary access db = conn['name_db']\n",
    "print(type(conn))\n",
    "print(type(db))\n",
    "conn.listDatabaseNames()\n",
    "#Empty databases do not show!"
   ]
  },
  {
   "cell_type": "markdown",
   "metadata": {},
   "source": [
    "A database stores a **collection**. A collection is a group of documents stored in MongoDB, and can be thought of as the equivalent of a table in a relational database. Getting a collection in PyMongo works the same as getting a database:"
   ]
  },
  {
   "cell_type": "code",
   "execution_count": null,
   "metadata": {},
   "outputs": [],
   "source": [
    "collection = db.edu\n",
    "db.list_collection_names()\n",
    "#Empty collections do not show!"
   ]
  },
  {
   "cell_type": "markdown",
   "metadata": {},
   "source": [
    "MongoDB stores structured data as JSON-like documents, using dynamic schemas (called BSON), rather than predefined schemas. An element of data is called a document, and documents are stored in collections. One collection may have any number of documents.\n",
    "\n",
    "Compared to relational databases, we could say collections are like tables, and documents are like records. But there is one big difference: every record in a table has the same fields (with, usually, differing values) in the same order, while each document in a collection can have completely different fields from the other documents.\n",
    "\n",
    "All you really need to know when you're using Python, however, is that documents are Python dictionaries that can have strings as keys and can contain various primitive types (int, float,unicode, datetime) as well as other documents (Python dicts) and arrays (Python lists).\n",
    "\n",
    "To insert some data into MongoDB, all we need to do is create a dict and call .insert() on the collection object. Let us exemplify this process by getting some DatFrame and storing it in the collection."
   ]
  },
  {
   "cell_type": "code",
   "execution_count": null,
   "metadata": {},
   "outputs": [],
   "source": [
    "import pandas as pd\n",
    "df = pd.read_csv('educ_figdp_1_Data.csv',na_values=':')\n",
    "df.head(5)"
   ]
  },
  {
   "cell_type": "code",
   "execution_count": null,
   "metadata": {},
   "outputs": [],
   "source": [
    "df.to_dict(\"records\")"
   ]
  },
  {
   "cell_type": "code",
   "execution_count": null,
   "metadata": {},
   "outputs": [],
   "source": [
    "#insert documents in the collection\n",
    "collection.insert_many(df.to_dict(\"records\"))"
   ]
  },
  {
   "cell_type": "code",
   "execution_count": null,
   "metadata": {},
   "outputs": [],
   "source": [
    "#Check that we have a non empty collection.\n",
    "db.list_collection_names()"
   ]
  },
  {
   "cell_type": "markdown",
   "metadata": {},
   "source": [
    "To recap, we have databases containing collections. A collection is made up of documents. Each document is made up of fields."
   ]
  },
  {
   "cell_type": "markdown",
   "metadata": {},
   "source": [
    "### Retrieving data"
   ]
  },
  {
   "cell_type": "code",
   "execution_count": null,
   "metadata": {
    "scrolled": false
   },
   "outputs": [],
   "source": [
    "collection.find_one() #Returns first document in the collection"
   ]
  },
  {
   "cell_type": "markdown",
   "metadata": {},
   "source": [
    "To get more than a single document as the result of a query we use the find() method. find() returns a Cursor instance, which allows us to iterate over all matching documents.\n"
   ]
  },
  {
   "cell_type": "code",
   "execution_count": null,
   "metadata": {},
   "outputs": [],
   "source": [
    "collection.find()"
   ]
  },
  {
   "cell_type": "code",
   "execution_count": null,
   "metadata": {
    "scrolled": true
   },
   "outputs": [],
   "source": [
    "[d for d in collection.find()] \n"
   ]
  },
  {
   "cell_type": "markdown",
   "metadata": {},
   "source": [
    "If we just want to know how many documents match a query we can perform a count() operation instead of a full query. We can get a count of all of the documents in a collection:"
   ]
  },
  {
   "cell_type": "code",
   "execution_count": null,
   "metadata": {},
   "outputs": [],
   "source": [
    "collection.count_documents({})"
   ]
  },
  {
   "cell_type": "markdown",
   "metadata": {},
   "source": [
    "### Basic queries"
   ]
  },
  {
   "cell_type": "markdown",
   "metadata": {},
   "source": [
    "Querying in pymongo uses .find() "
   ]
  },
  {
   "cell_type": "code",
   "execution_count": null,
   "metadata": {},
   "outputs": [],
   "source": [
    "[d for d in collection.find({\"TIME\":2009})]"
   ]
  },
  {
   "cell_type": "markdown",
   "metadata": {},
   "source": [
    "Observe that it finds exact matches (including data type)"
   ]
  },
  {
   "cell_type": "code",
   "execution_count": null,
   "metadata": {},
   "outputs": [],
   "source": [
    "[d for d in collection.find({\"TIME\":\"2009\"})]"
   ]
  },
  {
   "cell_type": "code",
   "execution_count": null,
   "metadata": {},
   "outputs": [],
   "source": [
    "[d for d in collection.find({\"GEO\":\"Spain\"})]"
   ]
  },
  {
   "cell_type": "code",
   "execution_count": null,
   "metadata": {},
   "outputs": [],
   "source": [
    "[d for d in collection.find({\"GEO\":\"SPAIN\"})]"
   ]
  },
  {
   "cell_type": "markdown",
   "metadata": {},
   "source": [
    "Operations include *gt* (greater than), *gte* (greater than equal), *lt* (lesser than), *lte* (lesser than equal), *ne* (not equal), *nin* (not in a list), *regex* (regular expression), *exists*, *not*, *or*, *and*, etc. Let us see some examples:"
   ]
  },
  {
   "cell_type": "code",
   "execution_count": null,
   "metadata": {},
   "outputs": [],
   "source": [
    "[d for d in collection.find({\"TIME\":{\"$gte\":2009}})]"
   ]
  },
  {
   "cell_type": "code",
   "execution_count": null,
   "metadata": {},
   "outputs": [],
   "source": [
    "substring = r'Euro'\n",
    "reg = substring\n",
    "[(i[\"GEO\"]) for i in collection.find({\"GEO\":{\"$regex\":reg}})]"
   ]
  },
  {
   "cell_type": "code",
   "execution_count": null,
   "metadata": {},
   "outputs": [],
   "source": [
    "for item in collection.find({\"GEO\":{\"$regex\":reg}}):\n",
    "     print (item['GEO'])"
   ]
  },
  {
   "cell_type": "markdown",
   "metadata": {},
   "source": [
    "### Update"
   ]
  },
  {
   "cell_type": "markdown",
   "metadata": {},
   "source": [
    "In this section, several methods for updating and deleting documents are reveiwed:\n",
    "\n",
    "+ Replace. This method finds the documents defined by query and **replaces** it by the new document. "
   ]
  },
  {
   "cell_type": "code",
   "execution_count": null,
   "metadata": {},
   "outputs": [],
   "source": [
    "#Insert One new Document\n",
    "import numpy as np\n",
    "doc = {'Flag and Footnotes': np.nan,\n",
    "  'GEO': 'Catalunya',\n",
    "  'INDIC_ED': 'Total public expenditure on education as % of GDP, for all levels of education combined',\n",
    "  'TIME': 2017,\n",
    "  'Value': np.nan}\n",
    "collection.insert_one(doc)"
   ]
  },
  {
   "cell_type": "code",
   "execution_count": null,
   "metadata": {},
   "outputs": [],
   "source": [
    "for doc in collection.find({'GEO':\"Catalunya\"}):\n",
    "    print (doc)"
   ]
  },
  {
   "cell_type": "code",
   "execution_count": null,
   "metadata": {},
   "outputs": [],
   "source": [
    "#Replace first occurence\n",
    "newdoc = {'Flag and Footnotes': np.nan,\n",
    "  'GEO': 'Catalunya',\n",
    "  'INDIC_ED': 'Total public expenditure on education as % of GDP, for all levels of education combined',\n",
    "  'TIME': 2017,\n",
    "  'Value': 15}\n",
    "collection.replace_one({'GEO':\"Catalunya\"},newdoc)\n",
    "\n",
    "for doc in collection.find({'GEO':\"Catalunya\"}):\n",
    "    print (doc)"
   ]
  },
  {
   "cell_type": "markdown",
   "metadata": {},
   "source": [
    "If we don't want to write again all the document and just put the field that we want to change then we have to use **update_one** and adding a sub-command.  Let us check some of them:"
   ]
  },
  {
   "cell_type": "markdown",
   "metadata": {},
   "source": [
    "+ Sub-command **Set**:\n",
    "\n",
    "This statement updates in the document in collection where field matches value1 by replacing the value of the field field1 with value2. This operator will add the specified field or fields if they do not exist in this document or replace the existing value of the specified field(s) if they already exist.\n",
    "\n",
    "An upsert eliminates the need to perform a separate database call to check for the existence of a record before performing either an update or an insert operation. Typically update operations update existing documents, but in MongoDB, the update_one() operation can accept an upsert option as an argument. Upserts are a hybrid operation that use the query argument to determine the write operation:\n",
    "\n",
    "If the query matches an existing document(s), the upsert performs an update.\n",
    "If the query matches no document in the collection, the upsert inserts a single document."
   ]
  },
  {
   "cell_type": "code",
   "execution_count": null,
   "metadata": {},
   "outputs": [],
   "source": [
    "#Update first occurrence\n",
    "collection.update_one({'GEO':\"Catalunya\"},{\"$set\":{\"Value\":12}})"
   ]
  },
  {
   "cell_type": "code",
   "execution_count": null,
   "metadata": {},
   "outputs": [],
   "source": [
    "for doc in collection.find({'GEO':\"Catalunya\"}):\n",
    "    print (doc)"
   ]
  },
  {
   "cell_type": "markdown",
   "metadata": {},
   "source": [
    "By default, if the filter doesn't return any document, nothing is inserted to database. If you want to insert it, then set the upsert flag to `True`"
   ]
  },
  {
   "cell_type": "code",
   "execution_count": null,
   "metadata": {},
   "outputs": [],
   "source": [
    "collection.update_one({'GEO':\"Andorra\"},{\"$set\":{\"Value\":12}},upsert = True)\n",
    "for doc in collection.find({'GEO':\"Andorra\"}):\n",
    "    print (doc)"
   ]
  },
  {
   "cell_type": "markdown",
   "metadata": {},
   "source": [
    "+ Sub-commnad **Unset**:\n",
    "\n",
    "The unset operator deletes a particular field. If documents match the initial query but do not have the field specified in the unset operation, there the statement has no effect on the document."
   ]
  },
  {
   "cell_type": "code",
   "execution_count": null,
   "metadata": {},
   "outputs": [],
   "source": [
    "collection.update_one({'GEO':\"Catalunya\"},{\"$unset\":{\"Flag and Footnotes\":\"\"}})"
   ]
  },
  {
   "cell_type": "code",
   "execution_count": null,
   "metadata": {},
   "outputs": [],
   "source": [
    "for doc in collection.find({'GEO':\"Catalunya\"}):\n",
    "    print (doc)"
   ]
  },
  {
   "cell_type": "markdown",
   "metadata": {},
   "source": [
    "### Delete operations"
   ]
  },
  {
   "cell_type": "markdown",
   "metadata": {},
   "source": [
    "We can remove elements by simply:"
   ]
  },
  {
   "cell_type": "code",
   "execution_count": null,
   "metadata": {},
   "outputs": [],
   "source": [
    "collection.delete_one({\"GEO\":\"Andorra\"})"
   ]
  },
  {
   "cell_type": "code",
   "execution_count": null,
   "metadata": {},
   "outputs": [],
   "source": [
    "for doc in collection.find({\"GEO\":\"Andorra\"}):\n",
    "    print (doc)"
   ]
  },
  {
   "cell_type": "markdown",
   "metadata": {},
   "source": [
    "And remove a collection by:"
   ]
  },
  {
   "cell_type": "code",
   "execution_count": null,
   "metadata": {},
   "outputs": [],
   "source": [
    "db.list_collection_names()"
   ]
  },
  {
   "cell_type": "code",
   "execution_count": null,
   "metadata": {},
   "outputs": [],
   "source": [
    "db.drop_collection(\"edu\")\n",
    "db.list_collection_names()"
   ]
  },
  {
   "cell_type": "markdown",
   "metadata": {},
   "source": [
    "And remove a database by:"
   ]
  },
  {
   "cell_type": "code",
   "execution_count": null,
   "metadata": {},
   "outputs": [],
   "source": [
    "conn.list_database_names()"
   ]
  },
  {
   "cell_type": "code",
   "execution_count": null,
   "metadata": {},
   "outputs": [],
   "source": [
    "conn.drop_database('ads')\n",
    "conn.list_database_names()"
   ]
  },
  {
   "cell_type": "markdown",
   "metadata": {},
   "source": [
    "And finally close the connection with the database."
   ]
  },
  {
   "cell_type": "code",
   "execution_count": null,
   "metadata": {},
   "outputs": [],
   "source": [
    "conn.close()"
   ]
  }
 ],
 "metadata": {
  "kernelspec": {
   "display_name": "Python 3 (ipykernel)",
   "language": "python",
   "name": "python3"
  },
  "language_info": {
   "codemirror_mode": {
    "name": "ipython",
    "version": 3
   },
   "file_extension": ".py",
   "mimetype": "text/x-python",
   "name": "python",
   "nbconvert_exporter": "python",
   "pygments_lexer": "ipython3",
   "version": "3.9.7"
  }
 },
 "nbformat": 4,
 "nbformat_minor": 1
}
